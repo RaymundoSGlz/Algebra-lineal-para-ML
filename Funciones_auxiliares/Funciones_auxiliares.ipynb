{
 "cells": [
  {
   "cell_type": "code",
   "execution_count": null,
   "metadata": {},
   "outputs": [],
   "source": [
    "import numpy as np\n",
    "import matplotlib.pyplot as plt"
   ]
  },
  {
   "cell_type": "code",
   "execution_count": null,
   "metadata": {},
   "outputs": [],
   "source": [
    "def graficarVectores(vectores, colores, alpha=1):\n",
    "    \"\"\"La función gráfica vectores en el plano cartesiano\n",
    "\n",
    "    Args:\n",
    "        vectores (list): lista de vectores a graficar, en forma de tuplas\n",
    "        colores (list): lista de colores para los vectores, en forma de tuplas\n",
    "        alpha (int, optional): nivel de transparencia. Defaults to 1.\n",
    "    \"\"\"    \n",
    "    plt.axvline(x=0, color=\"grey\", zorder=0)\n",
    "    plt.axhline(y=0, color=\"grey\", zorder=0)\n",
    "\n",
    "    for i in range(len(vectores)):\n",
    "        x = np.concatenate([[0,0], vectores[i]])\n",
    "        plt.quiver([x[0]],\n",
    "                   [x[1]],\n",
    "                   [x[2]],\n",
    "                   [x[3]],\n",
    "                   angles='xy', scale_units='xy',\n",
    "                   scale=1,\n",
    "                   color=colores[i],\n",
    "                   alpha=alpha\n",
    "                   )"
   ]
  },
  {
   "cell_type": "code",
   "execution_count": null,
   "metadata": {},
   "outputs": [],
   "source": [
    "def graficarMatriz(M, vectorColor = ['red', 'blue'], titulo = \"Circulo unitario\"):\n",
    "\n",
    "    # Circulo unitario\n",
    "    angulo = np.linspace(0, 2*np.pi)\n",
    "\n",
    "    # circulo unitario transformado\n",
    "    x = np.cos(angulo)\n",
    "    y = np.sin(angulo)\n",
    "\n",
    "    # transformación\n",
    "    x1 = M[0, 0] * x + M[0, 1] * y\n",
    "    y1 = M[1, 0] * x + M[1, 1] * y\n",
    "    \n",
    "    # Vectores que generan el espacio\n",
    "    u1 = M[:, 0]\n",
    "    v1 = M[:, 1]\n",
    "\n",
    "    graficarVectores([u1, v1], vectorColor)\n",
    "    plt.plot(x1, y1, 'purple', alpha=0.7)\n",
    "    plt.title(titulo)"
   ]
  },
  {
   "cell_type": "code",
   "execution_count": null,
   "metadata": {},
   "outputs": [],
   "source": [
    "# Utilizamos la matriz eye para evitar errores al ejecutar la función\n",
    "D = np.eye(3)\n",
    "def mostrarImagen(U=D, S=D, V=D, n=1):\n",
    "    \"\"\"La función reconstruye la imagen a partir de los valores singulares\"\"\"\n",
    "    imagen_recons = np.matrix(U[:, :n]) * np.diag(S[:n]) * np.matrix(V[:n, :])\n",
    "    plt.imshow(imagen_recons, cmap='gray')\n",
    "    title = f'Imagen reconstruida con:\\n {n} valores singulares'\n",
    "    plt.title(title);"
   ]
  }
 ],
 "metadata": {
  "kernelspec": {
   "display_name": "Python 3",
   "language": "python",
   "name": "python3"
  },
  "language_info": {
   "codemirror_mode": {
    "name": "ipython",
    "version": 3
   },
   "file_extension": ".py",
   "mimetype": "text/x-python",
   "name": "python",
   "nbconvert_exporter": "python",
   "pygments_lexer": "ipython3",
   "version": "3.10.9"
  },
  "orig_nbformat": 4,
  "vscode": {
   "interpreter": {
    "hash": "3ef6e1a8a3224157454c386edfa56ccf69617aaa84c3186f555e7c602618dd7d"
   }
  }
 },
 "nbformat": 4,
 "nbformat_minor": 2
}
